{
  "nbformat": 4,
  "nbformat_minor": 0,
  "metadata": {
    "colab": {
      "name": "Blockchain_Project.ipynb",
      "provenance": []
    },
    "kernelspec": {
      "name": "python3",
      "display_name": "Python 3"
    },
    "language_info": {
      "name": "python"
    }
  },
  "cells": [
    {
      "cell_type": "markdown",
      "metadata": {
        "id": "Abnfz26AOlbl"
      },
      "source": [
        "# **TOP CLASS BLOCKCHAIN PROJECT**"
      ]
    },
    {
      "cell_type": "markdown",
      "metadata": {
        "id": "vlv1BWZ3ObFN"
      },
      "source": [
        "\n",
        "\n",
        "**Blockchain** is a sequential chain of records called Blocks. They can contain transactions, files, information, records or any data you like, really.\n",
        "But the important thing is that they’re chained together using hashes.\n"
      ]
    },
    {
      "cell_type": "markdown",
      "metadata": {
        "id": "D5lUQxP6O2ed"
      },
      "source": [
        "See my friend,\n",
        "I will explain point to point this project.\n",
        "\n",
        "If you are still not able to understand.\n",
        "\n",
        "I will send you PPT, Project Report and Video Explanation of this Project.\n",
        "\n",
        "Mail me at **vatshayan007@gmail.com** to get this Full Project.\n",
        "\n"
      ]
    },
    {
      "cell_type": "code",
      "metadata": {
        "colab": {
          "base_uri": "https://localhost:8080/"
        },
        "id": "sUxUTfXcOvub",
        "outputId": "1bed6989-209b-4aa6-ebaf-d1cd605646ac"
      },
      "source": [
        "pip install Flask==0.12.2 requests==2.18.4 \n"
      ],
      "execution_count": 1,
      "outputs": [
        {
          "output_type": "stream",
          "text": [
            "Collecting Flask==0.12.2\n",
            "\u001b[?25l  Downloading https://files.pythonhosted.org/packages/77/32/e3597cb19ffffe724ad4bf0beca4153419918e7fa4ba6a34b04ee4da3371/Flask-0.12.2-py2.py3-none-any.whl (83kB)\n",
            "\u001b[K     |████████████████████████████████| 92kB 5.8MB/s \n",
            "\u001b[?25hCollecting requests==2.18.4\n",
            "\u001b[?25l  Downloading https://files.pythonhosted.org/packages/49/df/50aa1999ab9bde74656c2919d9c0c085fd2b3775fd3eca826012bef76d8c/requests-2.18.4-py2.py3-none-any.whl (88kB)\n",
            "\u001b[K     |████████████████████████████████| 92kB 5.7MB/s \n",
            "\u001b[?25hRequirement already satisfied: Werkzeug>=0.7 in /usr/local/lib/python3.7/dist-packages (from Flask==0.12.2) (1.0.1)\n",
            "Requirement already satisfied: Jinja2>=2.4 in /usr/local/lib/python3.7/dist-packages (from Flask==0.12.2) (2.11.3)\n",
            "Requirement already satisfied: click>=2.0 in /usr/local/lib/python3.7/dist-packages (from Flask==0.12.2) (7.1.2)\n",
            "Requirement already satisfied: itsdangerous>=0.21 in /usr/local/lib/python3.7/dist-packages (from Flask==0.12.2) (1.1.0)\n",
            "Collecting idna<2.7,>=2.5\n",
            "\u001b[?25l  Downloading https://files.pythonhosted.org/packages/27/cc/6dd9a3869f15c2edfab863b992838277279ce92663d334df9ecf5106f5c6/idna-2.6-py2.py3-none-any.whl (56kB)\n",
            "\u001b[K     |████████████████████████████████| 61kB 6.4MB/s \n",
            "\u001b[?25hRequirement already satisfied: chardet<3.1.0,>=3.0.2 in /usr/local/lib/python3.7/dist-packages (from requests==2.18.4) (3.0.4)\n",
            "Collecting urllib3<1.23,>=1.21.1\n",
            "\u001b[?25l  Downloading https://files.pythonhosted.org/packages/63/cb/6965947c13a94236f6d4b8223e21beb4d576dc72e8130bd7880f600839b8/urllib3-1.22-py2.py3-none-any.whl (132kB)\n",
            "\u001b[K     |████████████████████████████████| 133kB 7.6MB/s \n",
            "\u001b[?25hRequirement already satisfied: certifi>=2017.4.17 in /usr/local/lib/python3.7/dist-packages (from requests==2.18.4) (2020.12.5)\n",
            "Requirement already satisfied: MarkupSafe>=0.23 in /usr/local/lib/python3.7/dist-packages (from Jinja2>=2.4->Flask==0.12.2) (1.1.1)\n",
            "\u001b[31mERROR: tensorflow-datasets 4.0.1 has requirement requests>=2.19.0, but you'll have requests 2.18.4 which is incompatible.\u001b[0m\n",
            "\u001b[31mERROR: tensorboard 2.4.1 has requirement requests<3,>=2.21.0, but you'll have requests 2.18.4 which is incompatible.\u001b[0m\n",
            "\u001b[31mERROR: pandas-datareader 0.9.0 has requirement requests>=2.19.0, but you'll have requests 2.18.4 which is incompatible.\u001b[0m\n",
            "\u001b[31mERROR: google-colab 1.0.0 has requirement requests~=2.23.0, but you'll have requests 2.18.4 which is incompatible.\u001b[0m\n",
            "\u001b[31mERROR: datascience 0.10.6 has requirement folium==0.2.1, but you'll have folium 0.8.3 which is incompatible.\u001b[0m\n",
            "Installing collected packages: Flask, idna, urllib3, requests\n",
            "  Found existing installation: Flask 1.1.2\n",
            "    Uninstalling Flask-1.1.2:\n",
            "      Successfully uninstalled Flask-1.1.2\n",
            "  Found existing installation: idna 2.10\n",
            "    Uninstalling idna-2.10:\n",
            "      Successfully uninstalled idna-2.10\n",
            "  Found existing installation: urllib3 1.24.3\n",
            "    Uninstalling urllib3-1.24.3:\n",
            "      Successfully uninstalled urllib3-1.24.3\n",
            "  Found existing installation: requests 2.23.0\n",
            "    Uninstalling requests-2.23.0:\n",
            "      Successfully uninstalled requests-2.23.0\n",
            "Successfully installed Flask-0.12.2 idna-2.6 requests-2.18.4 urllib3-1.22\n"
          ],
          "name": "stdout"
        }
      ]
    },
    {
      "cell_type": "code",
      "metadata": {
        "id": "kpKe45HSOUiv"
      },
      "source": [
        "class Blockchain(object):\n",
        "    def __init__(self):\n",
        "        self.chain = []\n",
        "        self.current_transactions = []\n",
        "        \n",
        "    def new_block(self):\n",
        "        # Creates a new Block and adds it to the chain\n",
        "        pass\n",
        "    \n",
        "    def new_transaction(self):\n",
        "        # Adds a new transaction to the list of transactions\n",
        "        pass\n",
        "    \n",
        "    @staticmethod\n",
        "    def hash(block):\n",
        "        # Hashes a Block\n",
        "        pass\n",
        "\n",
        "    @property\n",
        "    def last_block(self):\n",
        "        # Returns the last Block in the chain\n",
        "        pass"
      ],
      "execution_count": 2,
      "outputs": []
    },
    {
      "cell_type": "code",
      "metadata": {
        "id": "ONQ1yh06PlwZ"
      },
      "source": [
        "block = {\n",
        "    'index': 1,\n",
        "    'timestamp': 1506057125.900785,\n",
        "    'transactions': [\n",
        "        {\n",
        "            'sender': \"8527147fe1f5426f9dd545de4b27ee00\",\n",
        "            'recipient': \"a77f5cdfa2934df3954a5c7c7da5df1f\",\n",
        "            'amount': 5,\n",
        "        }\n",
        "    ],\n",
        "    'proof': 324984774000,\n",
        "    'previous_hash': \"2cf24dba5fb0a30e26e83b2ac5b9e29e1b161e5c1fa7425e73043362938b9824\"\n",
        "}"
      ],
      "execution_count": 3,
      "outputs": []
    },
    {
      "cell_type": "code",
      "metadata": {
        "id": "ummp9yOePqZ0"
      },
      "source": [
        "class Blockchain(object):\n",
        "    ...\n",
        "    \n",
        "    def new_transaction(self, sender, recipient, amount):\n",
        "        \"\"\"\n",
        "        Creates a new transaction to go into the next mined Block\n",
        "        :param sender: <str> Address of the Sender\n",
        "        :param recipient: <str> Address of the Recipient\n",
        "        :param amount: <int> Amount\n",
        "        :return: <int> The index of the Block that will hold this transaction\n",
        "        \"\"\"\n",
        "\n",
        "        self.current_transactions.append({\n",
        "            'sender': sender,\n",
        "            'recipient': recipient,\n",
        "            'amount': amount,\n",
        "        })\n",
        "\n",
        "        return self.last_block['index'] + 1"
      ],
      "execution_count": 4,
      "outputs": []
    },
    {
      "cell_type": "code",
      "metadata": {
        "id": "5bogaVmePtEc"
      },
      "source": [
        ""
      ],
      "execution_count": null,
      "outputs": []
    },
    {
      "cell_type": "markdown",
      "metadata": {
        "id": "bjGJWdnDPyPs"
      },
      "source": [
        "WAIT WAIT,\n",
        "\n",
        "Full Project Code and Report.\n",
        "\n",
        "Please Mail me at **vatshayan007@gmail.com**"
      ]
    },
    {
      "cell_type": "code",
      "metadata": {
        "id": "vCmEdxdCP6AA"
      },
      "source": [
        ""
      ],
      "execution_count": null,
      "outputs": []
    }
  ]
}